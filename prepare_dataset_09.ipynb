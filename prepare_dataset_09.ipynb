{
 "cells": [
  {
   "cell_type": "code",
   "execution_count": 1,
   "metadata": {
    "pycharm": {
     "name": "#%%\n"
    },
    "tags": []
   },
   "outputs": [],
   "source": [
    "from EduData import get_data\n",
    "import os\n",
    "\n",
    "\n",
    "# if not os.path.exists('../../data/skill_builder_data_corrected_collapsed/skill_builder_data_corrected_collapsed.csv'):\n",
    "#     get_data(\"2009_skill_builder_data_corrected\", \"../../data\")\n",
    "# 使用最新版本的assistment2019 :  https://drive.google.com/file/d/1NNXHFRxcArrU0ZJSb9BIL56vmUt5FhlE/view"
   ]
  },
  {
   "cell_type": "code",
   "execution_count": 2,
   "metadata": {
    "tags": []
   },
   "outputs": [],
   "source": [
    "import pandas as pd\n",
    "import tqdm\n",
    "\n",
    "data = pd.read_csv(\n",
    "    '../../data/2009_skill_builder_data_corrected_collapsed/skill_builder_data_corrected_collapsed.csv',\n",
    "   usecols=['order_id', 'user_id', 'skill_id', 'problem_id', 'correct','ms_first_response'],\n",
    "   low_memory=False\n",
    ").dropna(subset=['order_id', 'user_id', 'skill_id', 'problem_id', 'correct','ms_first_response']).sort_values('order_id')\n",
    "\n"
   ]
  },
  {
   "cell_type": "code",
   "execution_count": 3,
   "metadata": {
    "tags": []
   },
   "outputs": [
    {
     "data": {
      "text/html": [
       "<div>\n",
       "<style scoped>\n",
       "    .dataframe tbody tr th:only-of-type {\n",
       "        vertical-align: middle;\n",
       "    }\n",
       "\n",
       "    .dataframe tbody tr th {\n",
       "        vertical-align: top;\n",
       "    }\n",
       "\n",
       "    .dataframe thead th {\n",
       "        text-align: right;\n",
       "    }\n",
       "</style>\n",
       "<table border=\"1\" class=\"dataframe\">\n",
       "  <thead>\n",
       "    <tr style=\"text-align: right;\">\n",
       "      <th></th>\n",
       "      <th>order_id</th>\n",
       "      <th>user_id</th>\n",
       "      <th>problem_id</th>\n",
       "      <th>correct</th>\n",
       "      <th>ms_first_response</th>\n",
       "      <th>skill_id</th>\n",
       "    </tr>\n",
       "  </thead>\n",
       "  <tbody>\n",
       "    <tr>\n",
       "      <th>222489</th>\n",
       "      <td>20224085</td>\n",
       "      <td>73963</td>\n",
       "      <td>76429</td>\n",
       "      <td>0</td>\n",
       "      <td>106016</td>\n",
       "      <td>297</td>\n",
       "    </tr>\n",
       "    <tr>\n",
       "      <th>222490</th>\n",
       "      <td>20224095</td>\n",
       "      <td>73963</td>\n",
       "      <td>76430</td>\n",
       "      <td>1</td>\n",
       "      <td>194187</td>\n",
       "      <td>297</td>\n",
       "    </tr>\n",
       "    <tr>\n",
       "      <th>222491</th>\n",
       "      <td>20224113</td>\n",
       "      <td>73963</td>\n",
       "      <td>76431</td>\n",
       "      <td>1</td>\n",
       "      <td>12734</td>\n",
       "      <td>297</td>\n",
       "    </tr>\n",
       "    <tr>\n",
       "      <th>222492</th>\n",
       "      <td>20224123</td>\n",
       "      <td>73963</td>\n",
       "      <td>76432</td>\n",
       "      <td>1</td>\n",
       "      <td>333484</td>\n",
       "      <td>297</td>\n",
       "    </tr>\n",
       "    <tr>\n",
       "      <th>222493</th>\n",
       "      <td>20224142</td>\n",
       "      <td>73963</td>\n",
       "      <td>76433</td>\n",
       "      <td>0</td>\n",
       "      <td>52828</td>\n",
       "      <td>297</td>\n",
       "    </tr>\n",
       "  </tbody>\n",
       "</table>\n",
       "</div>"
      ],
      "text/plain": [
       "        order_id  user_id  problem_id  correct  ms_first_response skill_id\n",
       "222489  20224085    73963       76429        0             106016      297\n",
       "222490  20224095    73963       76430        1             194187      297\n",
       "222491  20224113    73963       76431        1              12734      297\n",
       "222492  20224123    73963       76432        1             333484      297\n",
       "222493  20224142    73963       76433        0              52828      297"
      ]
     },
     "execution_count": 3,
     "metadata": {},
     "output_type": "execute_result"
    }
   ],
   "source": [
    "#data.timeTaken = data.timeTaken.astype(int)\n",
    "data.head()"
   ]
  },
  {
   "cell_type": "code",
   "execution_count": 4,
   "metadata": {
    "tags": []
   },
   "outputs": [],
   "source": [
    "data['ms_first_response'] = data['ms_first_response'].apply(int)\n",
    "data['correct'] = data['correct'].apply(int)"
   ]
  },
  {
   "cell_type": "code",
   "execution_count": 5,
   "metadata": {
    "tags": []
   },
   "outputs": [
    {
     "name": "stdout",
     "output_type": "stream",
     "text": [
      "number of problems: 17751\n",
      "number of answer time: 1187\n"
     ]
    }
   ],
   "source": [
    "problems = data.problem_id.unique().tolist()\n",
    "at = data.ms_first_response.unique().tolist()\n",
    "at= set(int(t/1000) for t in at)\n",
    "\n",
    "# question id from 1 to #num_skill\n",
    "\n",
    "problem2id = { p: i+1 for i, p in enumerate(problems) }\n",
    "at2id = { a: i for i, a in enumerate(at) }\n",
    "\n",
    "print(\"number of problems: %d\" % len(problems))\n",
    "print(\"number of answer time: %d\" % len(at))"
   ]
  },
  {
   "cell_type": "code",
   "execution_count": 6,
   "metadata": {},
   "outputs": [
    {
     "name": "stdout",
     "output_type": "stream",
     "text": [
      "number of skills: 149\n",
      "number of single_skills: 123\n",
      "number of total_skills: 167\n"
     ]
    }
   ],
   "source": [
    "skills = data.skill_id.unique().tolist()\n",
    "#skill2id = { p: i+1 for i, p in enumerate(skills) }\n",
    "print(\"number of skills: %d\" % len(skills))\n",
    "\n",
    "# 由于存在复合概念的情况\n",
    "skill2id = {}\n",
    "index= 1\n",
    "for skill in skills:\n",
    "    s = skill.split('_')\n",
    "    for _ in s:\n",
    "        if _ not in skill2id.keys():\n",
    "            skill2id[_] = index\n",
    "            index+=1\n",
    "print(\"number of single_skills: %d\" % len(skill2id.keys()))\n",
    "for skill in skills:\n",
    "    if skill not in skill2id.keys():\n",
    "        skill2id[skill] = index\n",
    "        index+=1\n",
    "print(\"number of total_skills: %d\" % len(skill2id.keys()))"
   ]
  },
  {
   "cell_type": "code",
   "execution_count": 7,
   "metadata": {},
   "outputs": [],
   "source": [
    "with open('../../data/2009_skill_builder_data_corrected_collapsed/problem2id', 'w', encoding='utf-8') as f:\n",
    "    f.write(str(problem2id))\n",
    "with open('../../data/2009_skill_builder_data_corrected_collapsed/skill2id', 'w', encoding='utf-8') as f:\n",
    "    f.write(str(skill2id))"
   ]
  },
  {
   "cell_type": "code",
   "execution_count": 8,
   "metadata": {},
   "outputs": [],
   "source": [
    "# import math\n",
    "\n",
    "# n_difficult=10\n",
    "# problem2diffcult={}\n",
    "# for p in problems:\n",
    "#     temp_data=data[data.problemId==p]\n",
    "#     answer_num=temp_data.shape[0]\n",
    "#     if answer_num<20:\n",
    "#         problem2diffcult[problem2id[p]]=5\n",
    "#         continue\n",
    "#     correct_num=temp_data[temp_data.correct==1].shape[0]\n",
    "#     difficult=correct_num/answer_num*n_difficult\n",
    "#     difficult=math.floor(difficult)\n",
    "#     if difficult==10:\n",
    "#         difficult-=1\n",
    "#     problem2diffcult[problem2id[p]]=difficult\n",
    "    \n",
    "\n",
    "\n",
    "# with open('data/anonymized_full_release_competition_dataset/problem2difficult', 'w', encoding='utf-8') as f:\n",
    "#     f.write(str(problem2diffcult))\n",
    "# print(max(problem2diffcult.values()),min(problem2diffcult.values()))"
   ]
  },
  {
   "cell_type": "markdown",
   "metadata": {},
   "source": [
    "### Notice\n",
    "As for assistment2009 there not exists information to calculate interval time"
   ]
  },
  {
   "cell_type": "code",
   "execution_count": 9,
   "metadata": {
    "collapsed": false,
    "jupyter": {
     "outputs_hidden": false
    },
    "pycharm": {
     "name": "#%%\n"
    },
    "tags": []
   },
   "outputs": [],
   "source": [
    "import numpy as np\n",
    "# problems to skills    一个问题多个skill\n",
    "from collections import defaultdict\n",
    "import pickle\n",
    "problem2skill = defaultdict(set)\n",
    "\n",
    "for s, p in zip(np.array(data.skill_id), np.array(data.problem_id)):\n",
    "    for _ in s.split('_'):\n",
    "        problem2skill[problem2id[p]].add(skill2id[_])\n",
    "with open('../../data/2009_skill_builder_data_corrected_collapsed/problem2skill.pickle', 'wb') as f:\n",
    "    pickle.dump(problem2skill,f)"
   ]
  },
  {
   "cell_type": "code",
   "execution_count": 10,
   "metadata": {
    "tags": []
   },
   "outputs": [
    {
     "name": "stderr",
     "output_type": "stream",
     "text": [
      "parse student sequence:\t: 100%|██████████| 4163/4163 [00:02<00:00, 1397.52it/s]\n"
     ]
    }
   ],
   "source": [
    "def parse_all_seq(students):\n",
    "    all_sequences = []\n",
    "    for student_id in tqdm.tqdm(students, 'parse student sequence:\\t'):\n",
    "        student_sequence = parse_student_seq(data[data.user_id == student_id])\n",
    "        all_sequences.extend([student_sequence])\n",
    "    return all_sequences\n",
    "\n",
    "\n",
    "def parse_student_seq(student):\n",
    "    seq = student\n",
    "    s = [skill2id[q] for q in seq.skill_id.tolist()]\n",
    "    a = seq.correct.tolist()\n",
    "    a = [int(float(i)) for i in a]\n",
    "    p = [problem2id[p] for p in seq.problem_id.tolist()]\n",
    "    at = [at2id[int(x/1000)] for x in seq.ms_first_response.tolist()]\n",
    "    it = [-1]*len(a)\n",
    "    return s, a, p, it, at              # 都是list\n",
    "\n",
    "\n",
    "\n",
    "sequences = parse_all_seq(data.user_id.unique())"
   ]
  },
  {
   "cell_type": "code",
   "execution_count": 11,
   "metadata": {},
   "outputs": [
    {
     "data": {
      "text/html": [
       "<div>\n",
       "<style scoped>\n",
       "    .dataframe tbody tr th:only-of-type {\n",
       "        vertical-align: middle;\n",
       "    }\n",
       "\n",
       "    .dataframe tbody tr th {\n",
       "        vertical-align: top;\n",
       "    }\n",
       "\n",
       "    .dataframe thead th {\n",
       "        text-align: right;\n",
       "    }\n",
       "</style>\n",
       "<table border=\"1\" class=\"dataframe\">\n",
       "  <thead>\n",
       "    <tr style=\"text-align: right;\">\n",
       "      <th></th>\n",
       "      <th>order_id</th>\n",
       "      <th>user_id</th>\n",
       "      <th>problem_id</th>\n",
       "      <th>correct</th>\n",
       "      <th>ms_first_response</th>\n",
       "      <th>skill_id</th>\n",
       "    </tr>\n",
       "  </thead>\n",
       "  <tbody>\n",
       "    <tr>\n",
       "      <th>196010</th>\n",
       "      <td>21441630</td>\n",
       "      <td>64525</td>\n",
       "      <td>54003</td>\n",
       "      <td>0</td>\n",
       "      <td>20797</td>\n",
       "      <td>278</td>\n",
       "    </tr>\n",
       "    <tr>\n",
       "      <th>196011</th>\n",
       "      <td>21441970</td>\n",
       "      <td>64525</td>\n",
       "      <td>53991</td>\n",
       "      <td>1</td>\n",
       "      <td>13797</td>\n",
       "      <td>278</td>\n",
       "    </tr>\n",
       "    <tr>\n",
       "      <th>196012</th>\n",
       "      <td>21442097</td>\n",
       "      <td>64525</td>\n",
       "      <td>54071</td>\n",
       "      <td>0</td>\n",
       "      <td>14172</td>\n",
       "      <td>278</td>\n",
       "    </tr>\n",
       "    <tr>\n",
       "      <th>196013</th>\n",
       "      <td>21442513</td>\n",
       "      <td>64525</td>\n",
       "      <td>54015</td>\n",
       "      <td>1</td>\n",
       "      <td>48813</td>\n",
       "      <td>278</td>\n",
       "    </tr>\n",
       "    <tr>\n",
       "      <th>196014</th>\n",
       "      <td>21442851</td>\n",
       "      <td>64525</td>\n",
       "      <td>53987</td>\n",
       "      <td>1</td>\n",
       "      <td>22187</td>\n",
       "      <td>278</td>\n",
       "    </tr>\n",
       "    <tr>\n",
       "      <th>...</th>\n",
       "      <td>...</td>\n",
       "      <td>...</td>\n",
       "      <td>...</td>\n",
       "      <td>...</td>\n",
       "      <td>...</td>\n",
       "      <td>...</td>\n",
       "    </tr>\n",
       "    <tr>\n",
       "      <th>274115</th>\n",
       "      <td>33273093</td>\n",
       "      <td>64525</td>\n",
       "      <td>59762</td>\n",
       "      <td>0</td>\n",
       "      <td>19048</td>\n",
       "      <td>325</td>\n",
       "    </tr>\n",
       "    <tr>\n",
       "      <th>274116</th>\n",
       "      <td>33273154</td>\n",
       "      <td>64525</td>\n",
       "      <td>59763</td>\n",
       "      <td>1</td>\n",
       "      <td>3978</td>\n",
       "      <td>325</td>\n",
       "    </tr>\n",
       "    <tr>\n",
       "      <th>274117</th>\n",
       "      <td>33273172</td>\n",
       "      <td>64525</td>\n",
       "      <td>59764</td>\n",
       "      <td>1</td>\n",
       "      <td>14960</td>\n",
       "      <td>325</td>\n",
       "    </tr>\n",
       "    <tr>\n",
       "      <th>274118</th>\n",
       "      <td>33273227</td>\n",
       "      <td>64525</td>\n",
       "      <td>59765</td>\n",
       "      <td>1</td>\n",
       "      <td>7363</td>\n",
       "      <td>325</td>\n",
       "    </tr>\n",
       "    <tr>\n",
       "      <th>274119</th>\n",
       "      <td>33273271</td>\n",
       "      <td>64525</td>\n",
       "      <td>59682</td>\n",
       "      <td>1</td>\n",
       "      <td>21007</td>\n",
       "      <td>325</td>\n",
       "    </tr>\n",
       "  </tbody>\n",
       "</table>\n",
       "<p>561 rows × 6 columns</p>\n",
       "</div>"
      ],
      "text/plain": [
       "        order_id  user_id  problem_id  correct  ms_first_response skill_id\n",
       "196010  21441630    64525       54003        0              20797      278\n",
       "196011  21441970    64525       53991        1              13797      278\n",
       "196012  21442097    64525       54071        0              14172      278\n",
       "196013  21442513    64525       54015        1              48813      278\n",
       "196014  21442851    64525       53987        1              22187      278\n",
       "...          ...      ...         ...      ...                ...      ...\n",
       "274115  33273093    64525       59762        0              19048      325\n",
       "274116  33273154    64525       59763        1               3978      325\n",
       "274117  33273172    64525       59764        1              14960      325\n",
       "274118  33273227    64525       59765        1               7363      325\n",
       "274119  33273271    64525       59682        1              21007      325\n",
       "\n",
       "[561 rows x 6 columns]"
      ]
     },
     "execution_count": 11,
     "metadata": {},
     "output_type": "execute_result"
    }
   ],
   "source": [
    "# 测试顺序\n",
    "data[data.user_id == 64525]"
   ]
  },
  {
   "cell_type": "code",
   "execution_count": 12,
   "metadata": {
    "tags": []
   },
   "outputs": [
    {
     "data": {
      "text/plain": [
       "array([list([1, 2, 3]), list([1, 2]), list([1, 2, 3, 4])], dtype=object)"
      ]
     },
     "execution_count": 12,
     "metadata": {},
     "output_type": "execute_result"
    }
   ],
   "source": [
    "# 测试numpy\n",
    "ll=[[1,2,3],[1,2],[1,2,3,4]]\n",
    "#np.array(ll)\n",
    "np.array(ll,dtype=object)\n"
   ]
  },
  {
   "cell_type": "code",
   "execution_count": 13,
   "metadata": {
    "collapsed": false,
    "jupyter": {
     "outputs_hidden": false
    },
    "pycharm": {
     "name": "#%%\n"
    },
    "tags": []
   },
   "outputs": [
    {
     "data": {
      "text/plain": [
       "([[1, 2, 3]], [[1, 2], [1, 2, 3, 4]])"
      ]
     },
     "execution_count": 13,
     "metadata": {},
     "output_type": "execute_result"
    }
   ],
   "source": [
    "from sklearn.model_selection import train_test_split, KFold\n",
    "# 测试train_test_split\n",
    "train_l,test_l=train_test_split(ll,test_size=0.5)\n",
    "train_l,test_l"
   ]
  },
  {
   "cell_type": "code",
   "execution_count": 14,
   "metadata": {},
   "outputs": [],
   "source": [
    "# split train data and test data ，random_state参数设置为10，保证分割的结果是可重复的。如果我们多次使用相同的random_state值运行该代码，则每次都会得到相同的分割结果。\n",
    "train_data, test_data = train_test_split(sequences, test_size=.2, random_state=2023)\n",
    "# train_data = np.array(train_data)\n",
    "# test_data = np.array(test_data)\n",
    "train_data = np.array(train_data,dtype=object)     # numpy版本原因，不然报错\n",
    "test_data = np.array(test_data,dtype=object)"
   ]
  },
  {
   "cell_type": "code",
   "execution_count": 15,
   "metadata": {
    "collapsed": false,
    "jupyter": {
     "outputs_hidden": false
    },
    "pycharm": {
     "name": "#%%\n"
    },
    "tags": []
   },
   "outputs": [
    {
     "name": "stderr",
     "output_type": "stream",
     "text": [
      "write data into file: ../../data/2009_skill_builder_data_corrected_collapsed/train.txt: 100%|██████████| 3330/3330 [00:00<00:00, 12838.30it/s]\n",
      "write data into file: ../../data/2009_skill_builder_data_corrected_collapsed/test.txt: 100%|██████████| 833/833 [00:00<00:00, 16824.88it/s]\n"
     ]
    }
   ],
   "source": [
    "def sequences2l(sequences, trg_path):\n",
    "    with open(trg_path, 'a', encoding='utf8') as f:\n",
    "        for seq in tqdm.tqdm(sequences, 'write data into file: %s' % trg_path):\n",
    "            s_seq, a_seq, p_seq, it_seq, at_seq = seq\n",
    "            seq_len = len(s_seq)\n",
    "            f.write(str(seq_len) + '\\n')\n",
    "            f.write(','.join([str(s) for s in s_seq]) + '\\n')\n",
    "            f.write(','.join([str(a) for a in a_seq]) + '\\n')\n",
    "            f.write(','.join([str(p) for p in p_seq]) + '\\n')\n",
    "            f.write(','.join([str(i) for i in it_seq]) + '\\n')\n",
    "            f.write(','.join([str(a) for a in at_seq]) + '\\n')\n",
    "            \n",
    "# split into 5 folds\n",
    "# kfold = KFold(n_splits=5, shuffle=True, random_state=10)      #  random_state=10用于保证交叉验证的结果是可重复的。\n",
    "# idx = 0\n",
    "# for train_data_1, valid_data in kfold.split(train_data):\n",
    "#     sequences2l(train_data[train_data_1], '../../data/2009_skill_builder_data_corrected_collapsed/train' + str(idx) + '.txt')\n",
    "#     sequences2l(train_data[valid_data], '../../data/2009_skill_builder_data_corrected_collapsed/valid' + str(idx) + '.txt')\n",
    "#     idx += 1\n",
    "sequences2l(train_data, '../../data/2009_skill_builder_data_corrected_collapsed/train.txt')\n",
    "sequences2l(test_data, '../../data/2009_skill_builder_data_corrected_collapsed/test.txt')\n"
   ]
  },
  {
   "cell_type": "code",
   "execution_count": 16,
   "metadata": {
    "tags": []
   },
   "outputs": [],
   "source": [
    "# #测试读取\n",
    "# ques=[1,2,3,4]\n",
    "# with open('read_test.txt', 'w', encoding='utf8') as f:\n",
    "#     f.write(','.join([str(p) for p in ques]) + '\\n')\n",
    "# with open('read_test.txt', 'r', encoding='utf8') as f:\n",
    "#     for lineID, line in enumerate(f):\n",
    "#             print(line.split(','))\n",
    "#             line = line.strip()\n",
    "#             print(line.split(','))\n",
    "            \n",
    "            \n",
    "            \n"
   ]
  },
  {
   "cell_type": "code",
   "execution_count": null,
   "metadata": {},
   "outputs": [],
   "source": []
  }
 ],
 "metadata": {
  "kernelspec": {
   "display_name": "Python 3 (ipykernel)",
   "language": "python",
   "name": "python3"
  },
  "language_info": {
   "codemirror_mode": {
    "name": "ipython",
    "version": 3
   },
   "file_extension": ".py",
   "mimetype": "text/x-python",
   "name": "python",
   "nbconvert_exporter": "python",
   "pygments_lexer": "ipython3",
   "version": "3.7.16"
  }
 },
 "nbformat": 4,
 "nbformat_minor": 4
}
