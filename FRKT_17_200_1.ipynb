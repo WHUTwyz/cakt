{
 "cells": [
  {
   "cell_type": "markdown",
   "metadata": {
    "collapsed": false
   },
   "source": [
    "\n",
    "## Data Preparation\n",
    "\n",
    "Before we process the data, we need to first acquire the dataset which is shown in [prepare_dataset.ipynb](prepare_dataset.ipynb)"
   ]
  },
  {
   "cell_type": "markdown",
   "metadata": {},
   "source": [
    "## Parameters\n",
    "This notebook show the experiment that use the improved rasch embedding:  \n",
    "Dataset:Assistment2009  \n",
    "use_rasch:True  \n",
    "use_answer_time: False"
   ]
  },
  {
   "cell_type": "code",
   "execution_count": 1,
   "metadata": {},
   "outputs": [],
   "source": [
    "import numpy as np\n",
    "import torch\n",
    "import random\n",
    "def setup_seed(seed):\n",
    "     torch.manual_seed(seed)\n",
    "     torch.cuda.manual_seed_all(seed)\n",
    "     np.random.seed(seed)\n",
    "     random.seed(seed)\n",
    "     torch.backends.cudnn.deterministic = True\n",
    "# 设置随机数种子\n",
    "setup_seed(2023)"
   ]
  },
  {
   "cell_type": "code",
   "execution_count": 2,
   "metadata": {},
   "outputs": [],
   "source": [
    "import pickle\n",
    "def generate_q_matrix(path, n_skill, n_exercise):\n",
    "    with open(path, 'rb') as f:\n",
    "        problem2skill = pickle.load(f)\n",
    "        \n",
    "    q_matrix = np.zeros((n_exercise + 1, n_skill + 1))\n",
    "    for p,values in problem2skill.items():\n",
    "        for s in values:\n",
    "            q_matrix[p][s] = 1\n",
    "    return q_matrix"
   ]
  },
  {
   "cell_type": "code",
   "execution_count": 3,
   "metadata": {
    "collapsed": false,
    "pycharm": {
     "name": "#%%\n"
    }
   },
   "outputs": [],
   "source": [
    "n_exercise = 3162\n",
    "n_skill = 102\n",
    "batch_size = 32\n",
    "hidden_size = 128\n",
    "k_components= 32\n",
    "dropout = 0.2 \n",
    "use_rasch = True\n",
    "path = \"../../data/anonymized_full_release_competition_dataset/problem2skill.pickle\"\n",
    "q_matrix =  generate_q_matrix(path,n_skill,n_exercise)\n",
    "dataset_name = \"assistment2017\"\n",
    "seq_len = 200\n",
    "device = torch.device(\"cuda:3\" if torch.cuda.is_available() else \"cpu\")\n",
    "lr=1e-3"
   ]
  },
  {
   "cell_type": "markdown",
   "metadata": {
    "collapsed": false,
    "pycharm": {
     "name": "#%% md\n"
    }
   },
   "source": [
    "## Training and Persistence"
   ]
  },
  {
   "cell_type": "code",
   "execution_count": 4,
   "metadata": {
    "collapsed": false,
    "pycharm": {
     "name": "#%%\n"
    }
   },
   "outputs": [],
   "source": [
    "import logging\n",
    "logging.getLogger().setLevel(logging.INFO)"
   ]
  },
  {
   "cell_type": "code",
   "execution_count": 5,
   "metadata": {
    "collapsed": false,
    "pycharm": {
     "name": "#%%\n"
    }
   },
   "outputs": [
    {
     "name": "stdout",
     "output_type": "stream",
     "text": [
      "../../data/anonymized_full_release_competition_dataset/train0.txt\n"
     ]
    },
    {
     "name": "stderr",
     "output_type": "stream",
     "text": [
      "Training: 100%|██████████| 113/113 [00:49<00:00,  2.29it/s]\n"
     ]
    },
    {
     "name": "stdout",
     "output_type": "stream",
     "text": [
      "[Epoch 0] LogisticLoss: 0.607717, auc: 0.677895, accuracy: 0.674792 \n"
     ]
    },
    {
     "name": "stderr",
     "output_type": "stream",
     "text": [
      "Testing: 100%|██████████| 27/27 [00:03<00:00,  7.48it/s]\n",
      "INFO:root:save parameters to saved_model/anonymized_full_release_competition_dataset/model-seq_len200-lr0.001-hidden_size128-k32-use_rasch1.pt\n"
     ]
    },
    {
     "name": "stdout",
     "output_type": "stream",
     "text": [
      "[Epoch 0] LogisticLoss: 0.577109, auc: 0.733438, accuracy: 0.694871\n"
     ]
    },
    {
     "name": "stderr",
     "output_type": "stream",
     "text": [
      "Training: 100%|██████████| 113/113 [00:51<00:00,  2.21it/s]\n"
     ]
    },
    {
     "name": "stdout",
     "output_type": "stream",
     "text": [
      "[Epoch 1] LogisticLoss: 0.569018, auc: 0.740813, accuracy: 0.700693 \n"
     ]
    },
    {
     "name": "stderr",
     "output_type": "stream",
     "text": [
      "Testing: 100%|██████████| 27/27 [00:03<00:00,  8.37it/s]\n",
      "INFO:root:save parameters to saved_model/anonymized_full_release_competition_dataset/model-seq_len200-lr0.001-hidden_size128-k32-use_rasch1.pt\n"
     ]
    },
    {
     "name": "stdout",
     "output_type": "stream",
     "text": [
      "[Epoch 1] LogisticLoss: 0.563148, auc: 0.751223, accuracy: 0.703926\n"
     ]
    },
    {
     "name": "stderr",
     "output_type": "stream",
     "text": [
      "Training: 100%|██████████| 113/113 [00:49<00:00,  2.28it/s]\n"
     ]
    },
    {
     "name": "stdout",
     "output_type": "stream",
     "text": [
      "[Epoch 2] LogisticLoss: 0.557977, auc: 0.754882, accuracy: 0.709524 \n"
     ]
    },
    {
     "name": "stderr",
     "output_type": "stream",
     "text": [
      "Testing: 100%|██████████| 27/27 [00:03<00:00,  7.92it/s]\n",
      "INFO:root:save parameters to saved_model/anonymized_full_release_competition_dataset/model-seq_len200-lr0.001-hidden_size128-k32-use_rasch1.pt\n"
     ]
    },
    {
     "name": "stdout",
     "output_type": "stream",
     "text": [
      "[Epoch 2] LogisticLoss: 0.556426, auc: 0.759601, accuracy: 0.709594\n"
     ]
    },
    {
     "name": "stderr",
     "output_type": "stream",
     "text": [
      "Training: 100%|██████████| 113/113 [00:49<00:00,  2.29it/s]\n"
     ]
    },
    {
     "name": "stdout",
     "output_type": "stream",
     "text": [
      "[Epoch 3] LogisticLoss: 0.550651, auc: 0.763325, accuracy: 0.714700 \n"
     ]
    },
    {
     "name": "stderr",
     "output_type": "stream",
     "text": [
      "Testing: 100%|██████████| 27/27 [00:03<00:00,  7.29it/s]\n",
      "INFO:root:save parameters to saved_model/anonymized_full_release_competition_dataset/model-seq_len200-lr0.001-hidden_size128-k32-use_rasch1.pt\n"
     ]
    },
    {
     "name": "stdout",
     "output_type": "stream",
     "text": [
      "[Epoch 3] LogisticLoss: 0.551631, auc: 0.764739, accuracy: 0.713697\n"
     ]
    },
    {
     "name": "stderr",
     "output_type": "stream",
     "text": [
      "Training: 100%|██████████| 113/113 [00:49<00:00,  2.28it/s]\n"
     ]
    },
    {
     "name": "stdout",
     "output_type": "stream",
     "text": [
      "[Epoch 4] LogisticLoss: 0.543697, auc: 0.771296, accuracy: 0.719477 \n"
     ]
    },
    {
     "name": "stderr",
     "output_type": "stream",
     "text": [
      "Testing: 100%|██████████| 27/27 [00:03<00:00,  7.59it/s]\n",
      "INFO:root:save parameters to saved_model/anonymized_full_release_competition_dataset/model-seq_len200-lr0.001-hidden_size128-k32-use_rasch1.pt\n"
     ]
    },
    {
     "name": "stdout",
     "output_type": "stream",
     "text": [
      "[Epoch 4] LogisticLoss: 0.546994, auc: 0.770984, accuracy: 0.716193\n"
     ]
    },
    {
     "name": "stderr",
     "output_type": "stream",
     "text": [
      "Training: 100%|██████████| 113/113 [00:50<00:00,  2.24it/s]\n"
     ]
    },
    {
     "name": "stdout",
     "output_type": "stream",
     "text": [
      "[Epoch 5] LogisticLoss: 0.537636, auc: 0.777930, accuracy: 0.723955 \n"
     ]
    },
    {
     "name": "stderr",
     "output_type": "stream",
     "text": [
      "Testing: 100%|██████████| 27/27 [00:03<00:00,  7.68it/s]\n",
      "INFO:root:save parameters to saved_model/anonymized_full_release_competition_dataset/model-seq_len200-lr0.001-hidden_size128-k32-use_rasch1.pt\n"
     ]
    },
    {
     "name": "stdout",
     "output_type": "stream",
     "text": [
      "[Epoch 5] LogisticLoss: 0.543106, auc: 0.773998, accuracy: 0.719629\n"
     ]
    },
    {
     "name": "stderr",
     "output_type": "stream",
     "text": [
      "Training: 100%|██████████| 113/113 [00:49<00:00,  2.29it/s]\n"
     ]
    },
    {
     "name": "stdout",
     "output_type": "stream",
     "text": [
      "[Epoch 6] LogisticLoss: 0.532543, auc: 0.783279, accuracy: 0.727351 \n"
     ]
    },
    {
     "name": "stderr",
     "output_type": "stream",
     "text": [
      "Testing: 100%|██████████| 27/27 [00:03<00:00,  7.99it/s]\n",
      "INFO:root:save parameters to saved_model/anonymized_full_release_competition_dataset/model-seq_len200-lr0.001-hidden_size128-k32-use_rasch1.pt\n"
     ]
    },
    {
     "name": "stdout",
     "output_type": "stream",
     "text": [
      "[Epoch 6] LogisticLoss: 0.538876, auc: 0.779136, accuracy: 0.723572\n"
     ]
    },
    {
     "name": "stderr",
     "output_type": "stream",
     "text": [
      "Training: 100%|██████████| 113/113 [00:52<00:00,  2.14it/s]\n"
     ]
    },
    {
     "name": "stdout",
     "output_type": "stream",
     "text": [
      "[Epoch 7] LogisticLoss: 0.527682, auc: 0.788180, accuracy: 0.731257 \n"
     ]
    },
    {
     "name": "stderr",
     "output_type": "stream",
     "text": [
      "Testing: 100%|██████████| 27/27 [00:03<00:00,  8.33it/s]\n",
      "INFO:root:save parameters to saved_model/anonymized_full_release_competition_dataset/model-seq_len200-lr0.001-hidden_size128-k32-use_rasch1.pt\n"
     ]
    },
    {
     "name": "stdout",
     "output_type": "stream",
     "text": [
      "[Epoch 7] LogisticLoss: 0.539018, auc: 0.779678, accuracy: 0.722007\n"
     ]
    },
    {
     "name": "stderr",
     "output_type": "stream",
     "text": [
      "Training: 100%|██████████| 113/113 [00:51<00:00,  2.17it/s]\n"
     ]
    },
    {
     "name": "stdout",
     "output_type": "stream",
     "text": [
      "[Epoch 8] LogisticLoss: 0.524824, auc: 0.791038, accuracy: 0.733229 \n"
     ]
    },
    {
     "name": "stderr",
     "output_type": "stream",
     "text": [
      "Testing: 100%|██████████| 27/27 [00:03<00:00,  7.78it/s]\n",
      "INFO:root:save parameters to saved_model/anonymized_full_release_competition_dataset/model-seq_len200-lr0.001-hidden_size128-k32-use_rasch1.pt\n"
     ]
    },
    {
     "name": "stdout",
     "output_type": "stream",
     "text": [
      "[Epoch 8] LogisticLoss: 0.537103, auc: 0.781665, accuracy: 0.722654\n"
     ]
    },
    {
     "name": "stderr",
     "output_type": "stream",
     "text": [
      "Training: 100%|██████████| 113/113 [00:51<00:00,  2.18it/s]\n"
     ]
    },
    {
     "name": "stdout",
     "output_type": "stream",
     "text": [
      "[Epoch 9] LogisticLoss: 0.522645, auc: 0.793234, accuracy: 0.734550 \n"
     ]
    },
    {
     "name": "stderr",
     "output_type": "stream",
     "text": [
      "Testing: 100%|██████████| 27/27 [00:03<00:00,  7.88it/s]\n"
     ]
    },
    {
     "name": "stdout",
     "output_type": "stream",
     "text": [
      "[Epoch 9] LogisticLoss: 0.539601, auc: 0.781023, accuracy: 0.721979\n"
     ]
    },
    {
     "name": "stderr",
     "output_type": "stream",
     "text": [
      "Training: 100%|██████████| 113/113 [00:51<00:00,  2.19it/s]\n"
     ]
    },
    {
     "name": "stdout",
     "output_type": "stream",
     "text": [
      "[Epoch 10] LogisticLoss: 0.520518, auc: 0.795235, accuracy: 0.736099 \n"
     ]
    },
    {
     "name": "stderr",
     "output_type": "stream",
     "text": [
      "Testing: 100%|██████████| 27/27 [00:03<00:00,  7.62it/s]\n"
     ]
    },
    {
     "name": "stdout",
     "output_type": "stream",
     "text": [
      "[Epoch 10] LogisticLoss: 0.536637, auc: 0.781521, accuracy: 0.724253\n"
     ]
    },
    {
     "name": "stderr",
     "output_type": "stream",
     "text": [
      "Training: 100%|██████████| 113/113 [00:51<00:00,  2.21it/s]\n"
     ]
    },
    {
     "name": "stdout",
     "output_type": "stream",
     "text": [
      "[Epoch 11] LogisticLoss: 0.518703, auc: 0.797056, accuracy: 0.737778 \n"
     ]
    },
    {
     "name": "stderr",
     "output_type": "stream",
     "text": [
      "Testing: 100%|██████████| 27/27 [00:03<00:00,  7.71it/s]\n",
      "INFO:root:save parameters to saved_model/anonymized_full_release_competition_dataset/model-seq_len200-lr0.001-hidden_size128-k32-use_rasch1.pt\n"
     ]
    },
    {
     "name": "stdout",
     "output_type": "stream",
     "text": [
      "[Epoch 11] LogisticLoss: 0.535773, auc: 0.781923, accuracy: 0.724406\n"
     ]
    },
    {
     "name": "stderr",
     "output_type": "stream",
     "text": [
      "Training: 100%|██████████| 113/113 [00:50<00:00,  2.23it/s]\n"
     ]
    },
    {
     "name": "stdout",
     "output_type": "stream",
     "text": [
      "[Epoch 12] LogisticLoss: 0.517477, auc: 0.798143, accuracy: 0.737891 \n"
     ]
    },
    {
     "name": "stderr",
     "output_type": "stream",
     "text": [
      "Testing: 100%|██████████| 27/27 [00:03<00:00,  7.34it/s]\n"
     ]
    },
    {
     "name": "stdout",
     "output_type": "stream",
     "text": [
      "[Epoch 12] LogisticLoss: 0.536573, auc: 0.780919, accuracy: 0.724559\n"
     ]
    },
    {
     "name": "stderr",
     "output_type": "stream",
     "text": [
      "Training: 100%|██████████| 113/113 [00:52<00:00,  2.16it/s]\n"
     ]
    },
    {
     "name": "stdout",
     "output_type": "stream",
     "text": [
      "[Epoch 13] LogisticLoss: 0.515719, auc: 0.799849, accuracy: 0.739709 \n"
     ]
    },
    {
     "name": "stderr",
     "output_type": "stream",
     "text": [
      "Testing: 100%|██████████| 27/27 [00:03<00:00,  7.55it/s]\n",
      "INFO:root:save parameters to saved_model/anonymized_full_release_competition_dataset/model-seq_len200-lr0.001-hidden_size128-k32-use_rasch1.pt\n"
     ]
    },
    {
     "name": "stdout",
     "output_type": "stream",
     "text": [
      "[Epoch 13] LogisticLoss: 0.536223, auc: 0.781943, accuracy: 0.725011\n"
     ]
    },
    {
     "name": "stderr",
     "output_type": "stream",
     "text": [
      "Training: 100%|██████████| 113/113 [00:51<00:00,  2.19it/s]\n"
     ]
    },
    {
     "name": "stdout",
     "output_type": "stream",
     "text": [
      "[Epoch 14] LogisticLoss: 0.514725, auc: 0.800718, accuracy: 0.740675 \n"
     ]
    },
    {
     "name": "stderr",
     "output_type": "stream",
     "text": [
      "Testing: 100%|██████████| 27/27 [00:03<00:00,  7.69it/s]\n",
      "INFO:root:save parameters to saved_model/anonymized_full_release_competition_dataset/model-seq_len200-lr0.001-hidden_size128-k32-use_rasch1.pt\n"
     ]
    },
    {
     "name": "stdout",
     "output_type": "stream",
     "text": [
      "[Epoch 14] LogisticLoss: 0.535976, auc: 0.783234, accuracy: 0.725853\n"
     ]
    },
    {
     "name": "stderr",
     "output_type": "stream",
     "text": [
      "Training: 100%|██████████| 113/113 [00:50<00:00,  2.25it/s]\n"
     ]
    },
    {
     "name": "stdout",
     "output_type": "stream",
     "text": [
      "[Epoch 15] LogisticLoss: 0.512975, auc: 0.802476, accuracy: 0.741548 \n"
     ]
    },
    {
     "name": "stderr",
     "output_type": "stream",
     "text": [
      "Testing: 100%|██████████| 27/27 [00:03<00:00,  7.62it/s]\n",
      "INFO:root:save parameters to saved_model/anonymized_full_release_competition_dataset/model-seq_len200-lr0.001-hidden_size128-k32-use_rasch1.pt\n"
     ]
    },
    {
     "name": "stdout",
     "output_type": "stream",
     "text": [
      "[Epoch 15] LogisticLoss: 0.536554, auc: 0.783266, accuracy: 0.726409\n"
     ]
    },
    {
     "name": "stderr",
     "output_type": "stream",
     "text": [
      "Training: 100%|██████████| 113/113 [00:49<00:00,  2.29it/s]\n"
     ]
    },
    {
     "name": "stdout",
     "output_type": "stream",
     "text": [
      "[Epoch 16] LogisticLoss: 0.512042, auc: 0.803336, accuracy: 0.741830 \n"
     ]
    },
    {
     "name": "stderr",
     "output_type": "stream",
     "text": [
      "Testing: 100%|██████████| 27/27 [00:03<00:00,  7.75it/s]\n"
     ]
    },
    {
     "name": "stdout",
     "output_type": "stream",
     "text": [
      "[Epoch 16] LogisticLoss: 0.535496, auc: 0.783174, accuracy: 0.725011\n"
     ]
    },
    {
     "name": "stderr",
     "output_type": "stream",
     "text": [
      "Training: 100%|██████████| 113/113 [00:48<00:00,  2.32it/s]\n"
     ]
    },
    {
     "name": "stdout",
     "output_type": "stream",
     "text": [
      "[Epoch 17] LogisticLoss: 0.511218, auc: 0.804080, accuracy: 0.742881 \n"
     ]
    },
    {
     "name": "stderr",
     "output_type": "stream",
     "text": [
      "Testing: 100%|██████████| 27/27 [00:03<00:00,  8.03it/s]\n"
     ]
    },
    {
     "name": "stdout",
     "output_type": "stream",
     "text": [
      "[Epoch 17] LogisticLoss: 0.538619, auc: 0.780475, accuracy: 0.724712\n"
     ]
    },
    {
     "name": "stderr",
     "output_type": "stream",
     "text": [
      "Training: 100%|██████████| 113/113 [00:49<00:00,  2.30it/s]\n"
     ]
    },
    {
     "name": "stdout",
     "output_type": "stream",
     "text": [
      "[Epoch 18] LogisticLoss: 0.510566, auc: 0.804682, accuracy: 0.742963 \n"
     ]
    },
    {
     "name": "stderr",
     "output_type": "stream",
     "text": [
      "Testing: 100%|██████████| 27/27 [00:03<00:00,  7.76it/s]\n",
      "INFO:root:save parameters to saved_model/anonymized_full_release_competition_dataset/model-seq_len200-lr0.001-hidden_size128-k32-use_rasch1.pt\n"
     ]
    },
    {
     "name": "stdout",
     "output_type": "stream",
     "text": [
      "[Epoch 18] LogisticLoss: 0.535463, auc: 0.783930, accuracy: 0.727105\n"
     ]
    },
    {
     "name": "stderr",
     "output_type": "stream",
     "text": [
      "Training: 100%|██████████| 113/113 [00:53<00:00,  2.11it/s]\n"
     ]
    },
    {
     "name": "stdout",
     "output_type": "stream",
     "text": [
      "[Epoch 19] LogisticLoss: 0.509781, auc: 0.805451, accuracy: 0.743832 \n"
     ]
    },
    {
     "name": "stderr",
     "output_type": "stream",
     "text": [
      "Testing: 100%|██████████| 27/27 [00:03<00:00,  7.21it/s]\n"
     ]
    },
    {
     "name": "stdout",
     "output_type": "stream",
     "text": [
      "[Epoch 19] LogisticLoss: 0.537262, auc: 0.782299, accuracy: 0.724399\n"
     ]
    },
    {
     "name": "stderr",
     "output_type": "stream",
     "text": [
      "Training: 100%|██████████| 113/113 [00:51<00:00,  2.19it/s]\n"
     ]
    },
    {
     "name": "stdout",
     "output_type": "stream",
     "text": [
      "[Epoch 20] LogisticLoss: 0.508924, auc: 0.806299, accuracy: 0.744630 \n"
     ]
    },
    {
     "name": "stderr",
     "output_type": "stream",
     "text": [
      "Testing: 100%|██████████| 27/27 [00:03<00:00,  7.88it/s]\n"
     ]
    },
    {
     "name": "stdout",
     "output_type": "stream",
     "text": [
      "[Epoch 20] LogisticLoss: 0.538472, auc: 0.782065, accuracy: 0.725255\n"
     ]
    },
    {
     "name": "stderr",
     "output_type": "stream",
     "text": [
      "Training: 100%|██████████| 113/113 [00:50<00:00,  2.24it/s]\n"
     ]
    },
    {
     "name": "stdout",
     "output_type": "stream",
     "text": [
      "[Epoch 21] LogisticLoss: 0.507492, auc: 0.807524, accuracy: 0.745525 \n"
     ]
    },
    {
     "name": "stderr",
     "output_type": "stream",
     "text": [
      "Testing: 100%|██████████| 27/27 [00:03<00:00,  7.70it/s]\n"
     ]
    },
    {
     "name": "stdout",
     "output_type": "stream",
     "text": [
      "[Epoch 21] LogisticLoss: 0.538045, auc: 0.782714, accuracy: 0.725602\n"
     ]
    },
    {
     "name": "stderr",
     "output_type": "stream",
     "text": [
      "Training:  37%|███▋      | 42/113 [00:19<00:32,  2.20it/s]\n"
     ]
    },
    {
     "ename": "KeyboardInterrupt",
     "evalue": "",
     "output_type": "error",
     "traceback": [
      "\u001b[0;31m---------------------------------------------------------------------------\u001b[0m",
      "\u001b[0;31mKeyboardInterrupt\u001b[0m                         Traceback (most recent call last)",
      "\u001b[0;32m/tmp/ipykernel_1128203/687973337.py\u001b[0m in \u001b[0;36m<module>\u001b[0;34m\u001b[0m\n\u001b[1;32m      1\u001b[0m \u001b[0;32mfrom\u001b[0m \u001b[0mFRKT\u001b[0m \u001b[0;32mimport\u001b[0m \u001b[0mFRKT\u001b[0m\u001b[0;34m\u001b[0m\u001b[0;34m\u001b[0m\u001b[0m\n\u001b[1;32m      2\u001b[0m \u001b[0mfrkt\u001b[0m \u001b[0;34m=\u001b[0m \u001b[0mFRKT\u001b[0m\u001b[0;34m(\u001b[0m\u001b[0mn_exercise\u001b[0m\u001b[0;34m,\u001b[0m \u001b[0mn_skill\u001b[0m\u001b[0;34m,\u001b[0m \u001b[0mbatch_size\u001b[0m\u001b[0;34m,\u001b[0m \u001b[0mq_matrix\u001b[0m\u001b[0;34m,\u001b[0m \u001b[0mdevice\u001b[0m\u001b[0;34m=\u001b[0m\u001b[0mdevice\u001b[0m\u001b[0;34m,\u001b[0m \u001b[0mhidden_size\u001b[0m\u001b[0;34m=\u001b[0m\u001b[0mhidden_size\u001b[0m\u001b[0;34m,\u001b[0m \u001b[0mk_components\u001b[0m\u001b[0;34m=\u001b[0m\u001b[0mk_components\u001b[0m\u001b[0;34m,\u001b[0m \u001b[0mdropout\u001b[0m\u001b[0;34m=\u001b[0m\u001b[0mdropout\u001b[0m\u001b[0;34m,\u001b[0m \u001b[0muse_rasch\u001b[0m\u001b[0;34m=\u001b[0m\u001b[0muse_rasch\u001b[0m\u001b[0;34m)\u001b[0m\u001b[0;34m\u001b[0m\u001b[0;34m\u001b[0m\u001b[0m\n\u001b[0;32m----> 3\u001b[0;31m \u001b[0mfrkt\u001b[0m\u001b[0;34m.\u001b[0m\u001b[0mtrain\u001b[0m\u001b[0;34m(\u001b[0m\u001b[0mdataset_name\u001b[0m\u001b[0;34m,\u001b[0m \u001b[0mseq_len\u001b[0m\u001b[0;34m=\u001b[0m\u001b[0mseq_len\u001b[0m\u001b[0;34m,\u001b[0m \u001b[0mepoch\u001b[0m\u001b[0;34m=\u001b[0m\u001b[0;36m100\u001b[0m\u001b[0;34m,\u001b[0m \u001b[0mlr\u001b[0m\u001b[0;34m=\u001b[0m\u001b[0mlr\u001b[0m\u001b[0;34m)\u001b[0m\u001b[0;34m\u001b[0m\u001b[0;34m\u001b[0m\u001b[0m\n\u001b[0m",
      "\u001b[0;32m~/users/wyz/EduKTM/examples/RDKVMN+/FRKT.py\u001b[0m in \u001b[0;36mtrain\u001b[0;34m(self, dataset_name, seq_len, epoch, lr, lr_decay_step, lr_decay_rate)\u001b[0m\n\u001b[1;32m    194\u001b[0m                 \u001b[0;32mbreak\u001b[0m\u001b[0;34m\u001b[0m\u001b[0;34m\u001b[0m\u001b[0m\n\u001b[1;32m    195\u001b[0m             train_loss, train_auc, train_accuracy = train_one_epoch(self.frkt_net, optimizer, criterion,\n\u001b[0;32m--> 196\u001b[0;31m                                                                     self.batch_size, self.device, *train_data)\n\u001b[0m\u001b[1;32m    197\u001b[0m             \u001b[0mprint\u001b[0m\u001b[0;34m(\u001b[0m\u001b[0;34m\"[Epoch %d] LogisticLoss: %.6f, auc: %.6f, accuracy: %.6f \"\u001b[0m \u001b[0;34m%\u001b[0m \u001b[0;34m(\u001b[0m\u001b[0midx\u001b[0m\u001b[0;34m,\u001b[0m \u001b[0mtrain_loss\u001b[0m\u001b[0;34m,\u001b[0m \u001b[0mtrain_auc\u001b[0m\u001b[0;34m,\u001b[0m \u001b[0mtrain_accuracy\u001b[0m\u001b[0;34m)\u001b[0m\u001b[0;34m)\u001b[0m\u001b[0;34m\u001b[0m\u001b[0;34m\u001b[0m\u001b[0m\n\u001b[1;32m    198\u001b[0m             \u001b[0;32mif\u001b[0m \u001b[0mtrain_auc\u001b[0m \u001b[0;34m>\u001b[0m \u001b[0mbest_train_auc\u001b[0m\u001b[0;34m:\u001b[0m\u001b[0;34m\u001b[0m\u001b[0;34m\u001b[0m\u001b[0m\n",
      "\u001b[0;32m~/users/wyz/EduKTM/examples/RDKVMN+/FRKT.py\u001b[0m in \u001b[0;36mtrain_one_epoch\u001b[0;34m(net, optimizer, criterion, batch_size, device, s_data, a_data, e_data, at_data)\u001b[0m\n\u001b[1;32m     75\u001b[0m         \u001b[0mloss\u001b[0m \u001b[0;34m=\u001b[0m \u001b[0mcriterion\u001b[0m\u001b[0;34m(\u001b[0m\u001b[0mmasked_pred\u001b[0m\u001b[0;34m,\u001b[0m \u001b[0mmasked_truth\u001b[0m\u001b[0;34m)\u001b[0m\u001b[0;34m.\u001b[0m\u001b[0msum\u001b[0m\u001b[0;34m(\u001b[0m\u001b[0;34m)\u001b[0m\u001b[0;34m\u001b[0m\u001b[0;34m\u001b[0m\u001b[0m\n\u001b[1;32m     76\u001b[0m \u001b[0;34m\u001b[0m\u001b[0m\n\u001b[0;32m---> 77\u001b[0;31m         \u001b[0mloss\u001b[0m\u001b[0;34m.\u001b[0m\u001b[0mbackward\u001b[0m\u001b[0;34m(\u001b[0m\u001b[0;34m)\u001b[0m\u001b[0;34m\u001b[0m\u001b[0;34m\u001b[0m\u001b[0m\n\u001b[0m\u001b[1;32m     78\u001b[0m         \u001b[0mclip_grad_norm_\u001b[0m\u001b[0;34m(\u001b[0m\u001b[0mnet\u001b[0m\u001b[0;34m.\u001b[0m\u001b[0mparameters\u001b[0m\u001b[0;34m(\u001b[0m\u001b[0;34m)\u001b[0m\u001b[0;34m,\u001b[0m \u001b[0mmax_norm\u001b[0m\u001b[0;34m=\u001b[0m\u001b[0;36m1.0\u001b[0m\u001b[0;34m)\u001b[0m   \u001b[0;31m#seq_len<=200\u001b[0m\u001b[0;34m\u001b[0m\u001b[0;34m\u001b[0m\u001b[0m\n\u001b[1;32m     79\u001b[0m         \u001b[0;31m#clip_grad_norm_(net.parameters(), max_norm=0.1)\u001b[0m\u001b[0;34m\u001b[0m\u001b[0;34m\u001b[0m\u001b[0;34m\u001b[0m\u001b[0m\n",
      "\u001b[0;32m~/.conda/envs/jplab/lib/python3.7/site-packages/torch/_tensor.py\u001b[0m in \u001b[0;36mbackward\u001b[0;34m(self, gradient, retain_graph, create_graph, inputs)\u001b[0m\n\u001b[1;32m    394\u001b[0m                 \u001b[0mcreate_graph\u001b[0m\u001b[0;34m=\u001b[0m\u001b[0mcreate_graph\u001b[0m\u001b[0;34m,\u001b[0m\u001b[0;34m\u001b[0m\u001b[0;34m\u001b[0m\u001b[0m\n\u001b[1;32m    395\u001b[0m                 inputs=inputs)\n\u001b[0;32m--> 396\u001b[0;31m         \u001b[0mtorch\u001b[0m\u001b[0;34m.\u001b[0m\u001b[0mautograd\u001b[0m\u001b[0;34m.\u001b[0m\u001b[0mbackward\u001b[0m\u001b[0;34m(\u001b[0m\u001b[0mself\u001b[0m\u001b[0;34m,\u001b[0m \u001b[0mgradient\u001b[0m\u001b[0;34m,\u001b[0m \u001b[0mretain_graph\u001b[0m\u001b[0;34m,\u001b[0m \u001b[0mcreate_graph\u001b[0m\u001b[0;34m,\u001b[0m \u001b[0minputs\u001b[0m\u001b[0;34m=\u001b[0m\u001b[0minputs\u001b[0m\u001b[0;34m)\u001b[0m\u001b[0;34m\u001b[0m\u001b[0;34m\u001b[0m\u001b[0m\n\u001b[0m\u001b[1;32m    397\u001b[0m \u001b[0;34m\u001b[0m\u001b[0m\n\u001b[1;32m    398\u001b[0m     \u001b[0;32mdef\u001b[0m \u001b[0mregister_hook\u001b[0m\u001b[0;34m(\u001b[0m\u001b[0mself\u001b[0m\u001b[0;34m,\u001b[0m \u001b[0mhook\u001b[0m\u001b[0;34m)\u001b[0m\u001b[0;34m:\u001b[0m\u001b[0;34m\u001b[0m\u001b[0;34m\u001b[0m\u001b[0m\n",
      "\u001b[0;32m~/.conda/envs/jplab/lib/python3.7/site-packages/torch/autograd/__init__.py\u001b[0m in \u001b[0;36mbackward\u001b[0;34m(tensors, grad_tensors, retain_graph, create_graph, grad_variables, inputs)\u001b[0m\n\u001b[1;32m    173\u001b[0m     Variable._execution_engine.run_backward(  # Calls into the C++ engine to run the backward pass\n\u001b[1;32m    174\u001b[0m         \u001b[0mtensors\u001b[0m\u001b[0;34m,\u001b[0m \u001b[0mgrad_tensors_\u001b[0m\u001b[0;34m,\u001b[0m \u001b[0mretain_graph\u001b[0m\u001b[0;34m,\u001b[0m \u001b[0mcreate_graph\u001b[0m\u001b[0;34m,\u001b[0m \u001b[0minputs\u001b[0m\u001b[0;34m,\u001b[0m\u001b[0;34m\u001b[0m\u001b[0;34m\u001b[0m\u001b[0m\n\u001b[0;32m--> 175\u001b[0;31m         allow_unreachable=True, accumulate_grad=True)  # Calls into the C++ engine to run the backward pass\n\u001b[0m\u001b[1;32m    176\u001b[0m \u001b[0;34m\u001b[0m\u001b[0m\n\u001b[1;32m    177\u001b[0m def grad(\n",
      "\u001b[0;31mKeyboardInterrupt\u001b[0m: "
     ]
    }
   ],
   "source": [
    "from FRKT import FRKT\n",
    "frkt = FRKT(n_exercise, n_skill, batch_size, q_matrix, device=device, hidden_size=hidden_size, k_components=k_components, dropout=dropout, use_rasch=use_rasch)\n",
    "frkt.train(dataset_name, seq_len=seq_len, epoch=100, lr=lr)"
   ]
  },
  {
   "cell_type": "markdown",
   "metadata": {
    "collapsed": false,
    "pycharm": {
     "name": "#%% md\n"
    }
   },
   "source": [
    "## Loading and Testing"
   ]
  },
  {
   "cell_type": "code",
   "execution_count": 6,
   "metadata": {},
   "outputs": [],
   "source": [
    "import numpy as np\n",
    "import torch\n",
    "import random\n",
    "def setup_seed(seed):\n",
    "     torch.manual_seed(seed)\n",
    "     torch.cuda.manual_seed_all(seed)\n",
    "     np.random.seed(seed)\n",
    "     random.seed(seed)\n",
    "     torch.backends.cudnn.deterministic = True\n",
    "# 设置随机数种子\n",
    "setup_seed(2023)\n",
    "\n",
    "import pickle\n",
    "def generate_q_matrix(path, n_skill, n_exercise):\n",
    "    with open(path, 'rb') as f:\n",
    "        problem2skill = pickle.load(f)\n",
    "        \n",
    "    q_matrix = np.zeros((n_exercise + 1, n_skill + 1))\n",
    "    for p,values in problem2skill.items():\n",
    "        for s in values:\n",
    "            q_matrix[p][s] = 1\n",
    "    return q_matrix"
   ]
  },
  {
   "cell_type": "code",
   "execution_count": 7,
   "metadata": {},
   "outputs": [],
   "source": [
    "n_exercise = 3162\n",
    "n_skill = 102\n",
    "batch_size = 32\n",
    "hidden_size = 128\n",
    "k_components = 32\n",
    "dropout = 0.2\n",
    "use_rasch = True\n",
    "path = \"../../data/anonymized_full_release_competition_dataset/problem2skill.pickle\"\n",
    "q_matrix =  generate_q_matrix(path,n_skill,n_exercise)\n",
    "dataset_name = \"assistment2017\"\n",
    "seq_len = 200\n",
    "device = torch.device(\"cuda:3\" if torch.cuda.is_available() else \"cpu\")\n",
    "lr=1e-3\n",
    "\n",
    "dataset_dir ={}\n",
    "dataset_dir[\"assistment2009\"] = \"2009_skill_builder_data_corrected_collapsed\"\n",
    "dataset_dir[\"assistment2012\"] = \"2012-2013-data-with-predictions-4-final\"\n",
    "dataset_dir[\"assistment2015\"] = \"2015_100_skill_builders_main_problems\"\n",
    "dataset_dir[\"assistment2017\"] = \"anonymized_full_release_competition_dataset\"\n",
    "dataset_dir[\"algebra2005\"] = \"algebra_2005_2006\"\n",
    "dataset_dir[\"statics\"] = \"statics\"\n",
    "dataset_dir[\"EdNet-KT1\"] = \"EdNet-Contents/contents\"\n",
    "\n",
    "import os \n",
    "\n",
    "saved_path = os.path.join(\"saved_model\",dataset_dir[dataset_name])\n",
    "model_path = os.path.join(saved_path, f\"model-seq_len{seq_len:03d}-lr{lr}-hidden_size{hidden_size:03d}-k{k_components}-use_rasch{use_rasch:01d}.pt\")"
   ]
  },
  {
   "cell_type": "code",
   "execution_count": 8,
   "metadata": {},
   "outputs": [],
   "source": [
    "from load_data import DATA\n",
    "from load_data_akt import DATA as DT_DATA             # 来自DTransformer的数据集\n",
    "from load_data_akt import PID_DATA as DT_PID_DATA\n",
    "\n",
    "data_dir = \"../../data/\"+dataset_dir[dataset_name]\n",
    "if dataset_name in [\"assistment2009\", \"assistment2012\", \"assistment2015\", \"assistment2017\",\"EdNet-KT1\",\"algebra2005\"]:\n",
    "    test_path = os.path.join(data_dir, \"test.txt\")      \n",
    "    dat = DATA(seqlen=seq_len, separate_char=',')\n",
    "    \n",
    "elif dataset_name in [\"statics\"]:\n",
    "    test_path = os.path.join(data_dir, \"test.txt\")\n",
    "    if n_exercise>0:\n",
    "        dat = DT_PID_DATA(seqlen=seq_len, separate_char=',')\n",
    "    else:\n",
    "        dat = DT_DATA(seqlen=seq_len, separate_char=',')\n",
    "else:\n",
    "    raise ValueError('ValueError: Unknown dataset! ')\n",
    "       \n",
    "test_data = dat.load_data(test_path)"
   ]
  },
  {
   "cell_type": "code",
   "execution_count": 9,
   "metadata": {},
   "outputs": [
    {
     "name": "stderr",
     "output_type": "stream",
     "text": [
      "INFO:root:load parameters from saved_model/anonymized_full_release_competition_dataset/model-seq_len200-lr0.001-hidden_size128-k32-use_rasch1.pt\n"
     ]
    },
    {
     "name": "stdout",
     "output_type": "stream",
     "text": [
      "saved_model/anonymized_full_release_competition_dataset/model-seq_len200-lr0.001-hidden_size128-k32-use_rasch1.pt\n"
     ]
    },
    {
     "name": "stderr",
     "output_type": "stream",
     "text": [
      "Testing: 100%|██████████| 34/34 [00:04<00:00,  7.71it/s]\n"
     ]
    },
    {
     "data": {
      "text/plain": [
       "(0.5343742370605469, 0.7847922879040903, 0.7284745481219033)"
      ]
     },
     "execution_count": 9,
     "metadata": {},
     "output_type": "execute_result"
    }
   ],
   "source": [
    "import logging\n",
    "logging.getLogger().setLevel(logging.INFO)\n",
    "\n",
    "from FRKT import FRKT\n",
    "print(model_path)\n",
    "frkt = FRKT(n_exercise, n_skill, batch_size, q_matrix, device=device, hidden_size=hidden_size, k_components=k_components, dropout=dropout, use_rasch=use_rasch)\n",
    "frkt.load(model_path)\n",
    "frkt.eval(device, test_data)\n",
    "\n",
    "# we find the at in 2017 is also important         (0.5253329277038574, 0.7833795517802937, 0.7426268005399308)\n",
    "#0.7873361"
   ]
  }
 ],
 "metadata": {
  "kernelspec": {
   "display_name": "Python 3",
   "language": "python",
   "name": "python3"
  },
  "language_info": {
   "codemirror_mode": {
    "name": "ipython",
    "version": 3
   },
   "file_extension": ".py",
   "mimetype": "text/x-python",
   "name": "python",
   "nbconvert_exporter": "python",
   "pygments_lexer": "ipython3",
   "version": "3.7.16"
  }
 },
 "nbformat": 4,
 "nbformat_minor": 0
}
