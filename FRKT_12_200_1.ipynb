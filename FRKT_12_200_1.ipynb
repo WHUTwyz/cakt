{
 "cells": [
  {
   "cell_type": "markdown",
   "metadata": {
    "collapsed": false
   },
   "source": [
    "\n",
    "## Data Preparation\n",
    "\n",
    "Before we process the data, we need to first acquire the dataset which is shown in [prepare_dataset.ipynb](prepare_dataset.ipynb)"
   ]
  },
  {
   "cell_type": "markdown",
   "metadata": {},
   "source": [
    "## Parameters\n",
    "This notebook show the experiment that use the improved rasch embedding:  \n",
    "Dataset:Assistment2012  \n",
    "use_rasch:True  "
   ]
  },
  {
   "cell_type": "code",
   "execution_count": 1,
   "metadata": {},
   "outputs": [],
   "source": [
    "import numpy as np\n",
    "import torch\n",
    "import random\n",
    "def setup_seed(seed):\n",
    "     torch.manual_seed(seed)\n",
    "     torch.cuda.manual_seed_all(seed)\n",
    "     np.random.seed(seed)\n",
    "     random.seed(seed)\n",
    "     torch.backends.cudnn.deterministic = True\n",
    "# 设置随机数种子\n",
    "setup_seed(2023)"
   ]
  },
  {
   "cell_type": "code",
   "execution_count": 2,
   "metadata": {},
   "outputs": [],
   "source": [
    "import pickle\n",
    "def generate_q_matrix(path, n_skill, n_exercise):\n",
    "    with open(path, 'rb') as f:\n",
    "        problem2skill = pickle.load(f)\n",
    "        \n",
    "    q_matrix = np.zeros((n_exercise + 1, n_skill + 1))\n",
    "    for p,values in problem2skill.items():\n",
    "        for s in values:\n",
    "            q_matrix[p][s] = 1\n",
    "    return q_matrix"
   ]
  },
  {
   "cell_type": "code",
   "execution_count": 3,
   "metadata": {
    "collapsed": false,
    "pycharm": {
     "name": "#%%\n"
    }
   },
   "outputs": [],
   "source": [
    "n_exercise = 53091\n",
    "n_skill = 265 \n",
    "batch_size = 32\n",
    "hidden_size = 128\n",
    "k_components = 128\n",
    "dropout = 0.2\n",
    "use_rasch = True\n",
    "path = \"../../data/2012-2013-data-with-predictions-4-final/problem2skill.pickle\"\n",
    "q_matrix =  generate_q_matrix(path,n_skill,n_exercise)\n",
    "dataset_name = \"assistment2012\"\n",
    "seq_len = 200\n",
    "device = torch.device(\"cuda:2\" if torch.cuda.is_available() else \"cpu\")\n",
    "lr=1e-3"
   ]
  },
  {
   "cell_type": "markdown",
   "metadata": {
    "collapsed": false,
    "pycharm": {
     "name": "#%% md\n"
    }
   },
   "source": [
    "## Training and Persistence"
   ]
  },
  {
   "cell_type": "code",
   "execution_count": 4,
   "metadata": {
    "collapsed": false,
    "pycharm": {
     "name": "#%%\n"
    }
   },
   "outputs": [],
   "source": [
    "import logging\n",
    "logging.getLogger().setLevel(logging.INFO)"
   ]
  },
  {
   "cell_type": "code",
   "execution_count": 5,
   "metadata": {
    "collapsed": false,
    "pycharm": {
     "name": "#%%\n"
    }
   },
   "outputs": [
    {
     "name": "stdout",
     "output_type": "stream",
     "text": [
      "../../data/2012-2013-data-with-predictions-4-final/train0.txt\n"
     ]
    },
    {
     "name": "stderr",
     "output_type": "stream",
     "text": [
      "Training: 100%|██████████| 647/647 [05:50<00:00,  1.85it/s]\n"
     ]
    },
    {
     "name": "stdout",
     "output_type": "stream",
     "text": [
      "[Epoch 0] LogisticLoss: 0.531305, auc: 0.744464, accuracy: 0.737144 \n"
     ]
    },
    {
     "name": "stderr",
     "output_type": "stream",
     "text": [
      "Testing: 100%|██████████| 162/162 [00:25<00:00,  6.33it/s]\n",
      "INFO:root:save parameters to saved_model/2012-2013-data-with-predictions-4-final/model-seq_len200-lr0.001-hidden_size128-k128-use_rasch1.pt\n"
     ]
    },
    {
     "name": "stdout",
     "output_type": "stream",
     "text": [
      "[Epoch 0] LogisticLoss: 0.509252, auc: 0.762949, accuracy: 0.753860\n"
     ]
    },
    {
     "name": "stderr",
     "output_type": "stream",
     "text": [
      "Training: 100%|██████████| 647/647 [05:46<00:00,  1.87it/s]\n"
     ]
    },
    {
     "name": "stdout",
     "output_type": "stream",
     "text": [
      "[Epoch 1] LogisticLoss: 0.506928, auc: 0.773829, accuracy: 0.755075 \n"
     ]
    },
    {
     "name": "stderr",
     "output_type": "stream",
     "text": [
      "Testing: 100%|██████████| 162/162 [00:24<00:00,  6.49it/s]\n",
      "INFO:root:save parameters to saved_model/2012-2013-data-with-predictions-4-final/model-seq_len200-lr0.001-hidden_size128-k128-use_rasch1.pt\n"
     ]
    },
    {
     "name": "stdout",
     "output_type": "stream",
     "text": [
      "[Epoch 1] LogisticLoss: 0.504403, auc: 0.770013, accuracy: 0.756866\n"
     ]
    },
    {
     "name": "stderr",
     "output_type": "stream",
     "text": [
      "Training: 100%|██████████| 647/647 [05:40<00:00,  1.90it/s]\n"
     ]
    },
    {
     "name": "stdout",
     "output_type": "stream",
     "text": [
      "[Epoch 2] LogisticLoss: 0.500230, auc: 0.781573, accuracy: 0.759364 \n"
     ]
    },
    {
     "name": "stderr",
     "output_type": "stream",
     "text": [
      "Testing: 100%|██████████| 162/162 [00:24<00:00,  6.59it/s]\n",
      "INFO:root:save parameters to saved_model/2012-2013-data-with-predictions-4-final/model-seq_len200-lr0.001-hidden_size128-k128-use_rasch1.pt\n"
     ]
    },
    {
     "name": "stdout",
     "output_type": "stream",
     "text": [
      "[Epoch 2] LogisticLoss: 0.501207, auc: 0.773160, accuracy: 0.758899\n"
     ]
    },
    {
     "name": "stderr",
     "output_type": "stream",
     "text": [
      "Training: 100%|██████████| 647/647 [05:43<00:00,  1.88it/s]\n"
     ]
    },
    {
     "name": "stdout",
     "output_type": "stream",
     "text": [
      "[Epoch 3] LogisticLoss: 0.495747, auc: 0.786700, accuracy: 0.761965 \n"
     ]
    },
    {
     "name": "stderr",
     "output_type": "stream",
     "text": [
      "Testing: 100%|██████████| 162/162 [00:24<00:00,  6.65it/s]\n",
      "INFO:root:save parameters to saved_model/2012-2013-data-with-predictions-4-final/model-seq_len200-lr0.001-hidden_size128-k128-use_rasch1.pt\n"
     ]
    },
    {
     "name": "stdout",
     "output_type": "stream",
     "text": [
      "[Epoch 3] LogisticLoss: 0.501838, auc: 0.774388, accuracy: 0.758432\n"
     ]
    },
    {
     "name": "stderr",
     "output_type": "stream",
     "text": [
      "Training: 100%|██████████| 647/647 [05:20<00:00,  2.02it/s]\n"
     ]
    },
    {
     "name": "stdout",
     "output_type": "stream",
     "text": [
      "[Epoch 4] LogisticLoss: 0.492564, auc: 0.790182, accuracy: 0.763978 \n"
     ]
    },
    {
     "name": "stderr",
     "output_type": "stream",
     "text": [
      "Testing: 100%|██████████| 162/162 [00:24<00:00,  6.63it/s]\n",
      "INFO:root:save parameters to saved_model/2012-2013-data-with-predictions-4-final/model-seq_len200-lr0.001-hidden_size128-k128-use_rasch1.pt\n"
     ]
    },
    {
     "name": "stdout",
     "output_type": "stream",
     "text": [
      "[Epoch 4] LogisticLoss: 0.499572, auc: 0.775227, accuracy: 0.760107\n"
     ]
    },
    {
     "name": "stderr",
     "output_type": "stream",
     "text": [
      "Training: 100%|██████████| 647/647 [05:08<00:00,  2.09it/s]\n"
     ]
    },
    {
     "name": "stdout",
     "output_type": "stream",
     "text": [
      "[Epoch 5] LogisticLoss: 0.490460, auc: 0.792407, accuracy: 0.764842 \n"
     ]
    },
    {
     "name": "stderr",
     "output_type": "stream",
     "text": [
      "Testing: 100%|██████████| 162/162 [00:25<00:00,  6.38it/s]\n",
      "INFO:root:save parameters to saved_model/2012-2013-data-with-predictions-4-final/model-seq_len200-lr0.001-hidden_size128-k128-use_rasch1.pt\n"
     ]
    },
    {
     "name": "stdout",
     "output_type": "stream",
     "text": [
      "[Epoch 5] LogisticLoss: 0.499853, auc: 0.775891, accuracy: 0.759907\n"
     ]
    },
    {
     "name": "stderr",
     "output_type": "stream",
     "text": [
      "Training: 100%|██████████| 647/647 [05:13<00:00,  2.06it/s]\n"
     ]
    },
    {
     "name": "stdout",
     "output_type": "stream",
     "text": [
      "[Epoch 6] LogisticLoss: 0.488417, auc: 0.794627, accuracy: 0.766158 \n"
     ]
    },
    {
     "name": "stderr",
     "output_type": "stream",
     "text": [
      "Testing: 100%|██████████| 162/162 [00:24<00:00,  6.74it/s]\n",
      "INFO:root:save parameters to saved_model/2012-2013-data-with-predictions-4-final/model-seq_len200-lr0.001-hidden_size128-k128-use_rasch1.pt\n"
     ]
    },
    {
     "name": "stdout",
     "output_type": "stream",
     "text": [
      "[Epoch 6] LogisticLoss: 0.500321, auc: 0.776792, accuracy: 0.759288\n"
     ]
    },
    {
     "name": "stderr",
     "output_type": "stream",
     "text": [
      "Training: 100%|██████████| 647/647 [05:17<00:00,  2.03it/s]\n"
     ]
    },
    {
     "name": "stdout",
     "output_type": "stream",
     "text": [
      "[Epoch 7] LogisticLoss: 0.485878, auc: 0.797248, accuracy: 0.767879 \n"
     ]
    },
    {
     "name": "stderr",
     "output_type": "stream",
     "text": [
      "Testing: 100%|██████████| 162/162 [00:24<00:00,  6.62it/s]\n"
     ]
    },
    {
     "name": "stdout",
     "output_type": "stream",
     "text": [
      "[Epoch 7] LogisticLoss: 0.498954, auc: 0.776010, accuracy: 0.760951\n"
     ]
    },
    {
     "name": "stderr",
     "output_type": "stream",
     "text": [
      "Training: 100%|██████████| 647/647 [05:08<00:00,  2.10it/s]\n"
     ]
    },
    {
     "name": "stdout",
     "output_type": "stream",
     "text": [
      "[Epoch 8] LogisticLoss: 0.483111, auc: 0.800075, accuracy: 0.769528 \n"
     ]
    },
    {
     "name": "stderr",
     "output_type": "stream",
     "text": [
      "Testing: 100%|██████████| 162/162 [00:21<00:00,  7.57it/s]\n"
     ]
    },
    {
     "name": "stdout",
     "output_type": "stream",
     "text": [
      "[Epoch 8] LogisticLoss: 0.499351, auc: 0.775828, accuracy: 0.760187\n"
     ]
    },
    {
     "name": "stderr",
     "output_type": "stream",
     "text": [
      "Training: 100%|██████████| 647/647 [05:20<00:00,  2.02it/s]\n"
     ]
    },
    {
     "name": "stdout",
     "output_type": "stream",
     "text": [
      "[Epoch 9] LogisticLoss: 0.479678, auc: 0.803622, accuracy: 0.771745 \n"
     ]
    },
    {
     "name": "stderr",
     "output_type": "stream",
     "text": [
      "Testing: 100%|██████████| 162/162 [00:25<00:00,  6.27it/s]\n"
     ]
    },
    {
     "name": "stdout",
     "output_type": "stream",
     "text": [
      "[Epoch 9] LogisticLoss: 0.499703, auc: 0.775630, accuracy: 0.759855\n"
     ]
    },
    {
     "name": "stderr",
     "output_type": "stream",
     "text": [
      "Training: 100%|██████████| 647/647 [05:28<00:00,  1.97it/s]\n"
     ]
    },
    {
     "name": "stdout",
     "output_type": "stream",
     "text": [
      "[Epoch 10] LogisticLoss: 0.476621, auc: 0.806666, accuracy: 0.773491 \n"
     ]
    },
    {
     "name": "stderr",
     "output_type": "stream",
     "text": [
      "Testing: 100%|██████████| 162/162 [00:24<00:00,  6.54it/s]\n"
     ]
    },
    {
     "name": "stdout",
     "output_type": "stream",
     "text": [
      "[Epoch 10] LogisticLoss: 0.500796, auc: 0.774331, accuracy: 0.759127\n"
     ]
    },
    {
     "name": "stderr",
     "output_type": "stream",
     "text": [
      "Training: 100%|██████████| 647/647 [05:29<00:00,  1.97it/s]\n"
     ]
    },
    {
     "name": "stdout",
     "output_type": "stream",
     "text": [
      "[Epoch 11] LogisticLoss: 0.473226, auc: 0.810078, accuracy: 0.775764 \n"
     ]
    },
    {
     "name": "stderr",
     "output_type": "stream",
     "text": [
      "Testing: 100%|██████████| 162/162 [00:24<00:00,  6.52it/s]\n"
     ]
    },
    {
     "name": "stdout",
     "output_type": "stream",
     "text": [
      "[Epoch 11] LogisticLoss: 0.501574, auc: 0.773709, accuracy: 0.758305\n"
     ]
    },
    {
     "name": "stderr",
     "output_type": "stream",
     "text": [
      "Training: 100%|██████████| 647/647 [05:20<00:00,  2.02it/s]\n"
     ]
    },
    {
     "name": "stdout",
     "output_type": "stream",
     "text": [
      "[Epoch 12] LogisticLoss: 0.470325, auc: 0.812986, accuracy: 0.777496 \n"
     ]
    },
    {
     "name": "stderr",
     "output_type": "stream",
     "text": [
      "Testing: 100%|██████████| 162/162 [00:26<00:00,  6.21it/s]\n"
     ]
    },
    {
     "name": "stdout",
     "output_type": "stream",
     "text": [
      "[Epoch 12] LogisticLoss: 0.503100, auc: 0.772466, accuracy: 0.757271\n"
     ]
    },
    {
     "data": {
      "text/plain": [
       "(0.8129857022003688,\n",
       " 0.7774959255097653,\n",
       " 0.7767918430623949,\n",
       " 0.7592875282100572)"
      ]
     },
     "execution_count": 5,
     "metadata": {},
     "output_type": "execute_result"
    }
   ],
   "source": [
    "from FRKT import FRKT\n",
    "frkt = FRKT(n_exercise, n_skill, batch_size, q_matrix, device=device, hidden_size=hidden_size, k_components=k_components, dropout=dropout, use_rasch=use_rasch)\n",
    "frkt.train(dataset_name, seq_len=seq_len, epoch=100, lr=lr)"
   ]
  },
  {
   "cell_type": "markdown",
   "metadata": {
    "collapsed": false,
    "pycharm": {
     "name": "#%% md\n"
    }
   },
   "source": [
    "## Loading and Testing"
   ]
  },
  {
   "cell_type": "code",
   "execution_count": 6,
   "metadata": {},
   "outputs": [],
   "source": [
    "import numpy as np\n",
    "import torch\n",
    "import random\n",
    "def setup_seed(seed):\n",
    "     torch.manual_seed(seed)\n",
    "     torch.cuda.manual_seed_all(seed)\n",
    "     np.random.seed(seed)\n",
    "     random.seed(seed)\n",
    "     torch.backends.cudnn.deterministic = True\n",
    "# 设置随机数种子\n",
    "setup_seed(2023)\n",
    "\n",
    "import pickle\n",
    "def generate_q_matrix(path, n_skill, n_exercise):\n",
    "    with open(path, 'rb') as f:\n",
    "        problem2skill = pickle.load(f)\n",
    "        \n",
    "    q_matrix = np.zeros((n_exercise + 1, n_skill + 1))\n",
    "    for p,values in problem2skill.items():\n",
    "        for s in values:\n",
    "            q_matrix[p][s] = 1\n",
    "    return q_matrix"
   ]
  },
  {
   "cell_type": "code",
   "execution_count": 7,
   "metadata": {},
   "outputs": [],
   "source": [
    "n_exercise = 53091\n",
    "n_skill = 265 \n",
    "batch_size = 32\n",
    "hidden_size = 128\n",
    "k_components = 128\n",
    "dropout = 0.2\n",
    "use_rasch = True\n",
    "path = \"../../data/2012-2013-data-with-predictions-4-final/problem2skill.pickle\"\n",
    "q_matrix =  generate_q_matrix(path,n_skill,n_exercise)\n",
    "dataset_name = \"assistment2012\"\n",
    "seq_len = 200\n",
    "device = torch.device(\"cuda:2\" if torch.cuda.is_available() else \"cpu\")\n",
    "lr=1e-3\n",
    "\n",
    "dataset_dir ={}\n",
    "dataset_dir[\"assistment2009\"] = \"2009_skill_builder_data_corrected_collapsed\"\n",
    "dataset_dir[\"assistment2012\"] = \"2012-2013-data-with-predictions-4-final\"\n",
    "dataset_dir[\"assistment2015\"] = \"2015_100_skill_builders_main_problems\"\n",
    "dataset_dir[\"assistment2017\"] = \"anonymized_full_release_competition_dataset\"\n",
    "dataset_dir[\"algebra2005\"] = \"algebra_2005_2006\"\n",
    "dataset_dir[\"statics\"] = \"statics\"\n",
    "dataset_dir[\"EdNet-KT1\"] = \"EdNet-Contents/contents\"\n",
    "\n",
    "import os \n",
    "\n",
    "saved_path = os.path.join(\"saved_model\",dataset_dir[dataset_name])\n",
    "model_path = os.path.join(saved_path, f\"model-seq_len{seq_len:03d}-lr{lr}-hidden_size{hidden_size:03d}-k{k_components}-use_rasch{use_rasch:01d}.pt\")"
   ]
  },
  {
   "cell_type": "code",
   "execution_count": 8,
   "metadata": {},
   "outputs": [],
   "source": [
    "from load_data import DATA\n",
    "from load_data_akt import DATA as DT_DATA             # 来自DTransformer的数据集\n",
    "from load_data_akt import PID_DATA as DT_PID_DATA\n",
    "\n",
    "data_dir = \"../../data/\"+dataset_dir[dataset_name]\n",
    "if dataset_name in [\"assistment2009\", \"assistment2012\", \"assistment2015\", \"assistment2017\",\"EdNet-KT1\",\"algebra2005\"]:\n",
    "    test_path = os.path.join(data_dir, \"test.txt\")      \n",
    "    dat = DATA(seqlen=seq_len, separate_char=',')\n",
    "    \n",
    "elif dataset_name in [\"statics\"]:\n",
    "    test_path = os.path.join(data_dir, \"test.txt\")\n",
    "    if n_exercise>0:\n",
    "        dat = DT_PID_DATA(seqlen=seq_len, separate_char=',')\n",
    "    else:\n",
    "        dat = DT_DATA(seqlen=seq_len, separate_char=',')\n",
    "else:\n",
    "    raise ValueError('ValueError: Unknown dataset! ')\n",
    "       \n",
    "test_data = dat.load_data(test_path)"
   ]
  },
  {
   "cell_type": "code",
   "execution_count": 9,
   "metadata": {},
   "outputs": [
    {
     "name": "stdout",
     "output_type": "stream",
     "text": [
      "saved_model/2012-2013-data-with-predictions-4-final/model-seq_len200-lr0.001-hidden_size128-k128-use_rasch1.pt\n"
     ]
    },
    {
     "name": "stderr",
     "output_type": "stream",
     "text": [
      "INFO:root:load parameters from saved_model/2012-2013-data-with-predictions-4-final/model-seq_len200-lr0.001-hidden_size128-k128-use_rasch1.pt\n",
      "Testing: 100%|██████████| 205/205 [00:32<00:00,  6.31it/s]\n"
     ]
    },
    {
     "data": {
      "text/plain": [
       "(0.5048169493675232, 0.7806257332026243, 0.7557541643920505)"
      ]
     },
     "execution_count": 9,
     "metadata": {},
     "output_type": "execute_result"
    }
   ],
   "source": [
    "import logging\n",
    "logging.getLogger().setLevel(logging.INFO)\n",
    "\n",
    "from FRKT import FRKT\n",
    "print(model_path)\n",
    "frkt = FRKT(n_exercise, n_skill, batch_size, q_matrix, device, hidden_size, k_components=k_components, dropout=dropout, use_rasch=use_rasch)\n",
    "frkt.load(model_path)\n",
    "frkt.eval(device, test_data)\n",
    "\n",
    "# 0.781332"
   ]
  }
 ],
 "metadata": {
  "kernelspec": {
   "display_name": "Python 3",
   "language": "python",
   "name": "python3"
  },
  "language_info": {
   "codemirror_mode": {
    "name": "ipython",
    "version": 3
   },
   "file_extension": ".py",
   "mimetype": "text/x-python",
   "name": "python",
   "nbconvert_exporter": "python",
   "pygments_lexer": "ipython3",
   "version": "3.7.16"
  }
 },
 "nbformat": 4,
 "nbformat_minor": 0
}
